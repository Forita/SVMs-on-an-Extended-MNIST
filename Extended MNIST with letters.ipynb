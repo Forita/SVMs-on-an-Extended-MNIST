{
 "cells": [
  {
   "cell_type": "code",
   "execution_count": 2,
   "metadata": {
    "collapsed": true
   },
   "outputs": [],
   "source": [
    "import numpy as np\n",
    "import matplotlib.pyplot as plt\n",
    "%matplotlib inline\n",
    "from sklearn import linear_model, preprocessing\n",
    "from sklearn.datasets import fetch_mldata"
   ]
  },
  {
   "cell_type": "code",
   "execution_count": 3,
   "metadata": {},
   "outputs": [
    {
     "data": {
      "text/plain": [
       "(70000, 784)"
      ]
     },
     "execution_count": 3,
     "metadata": {},
     "output_type": "execute_result"
    }
   ],
   "source": [
    "mnist = fetch_mldata(\"MNIST original\")\n",
    "Xdig = mnist.data\n",
    "ydig = mnist.target\n",
    "Xdigs = Xdig / np.max(Xdig)\n",
    "Xdigs.shape"
   ]
  },
  {
   "cell_type": "code",
   "execution_count": 4,
   "metadata": {},
   "outputs": [
    {
     "data": {
      "image/png": "[encoded data removed]",
      "text/plain": [
       "<matplotlib.figure.Figure at 0x118d66160>"
      ]
     },
     "metadata": {},
     "output_type": "display_data"
    }
   ],
   "source": [
    "def plt_digit(x):\n",
    "    nrow = 28\n",
    "    ncol = 28\n",
    "    xsq = x.reshape((nrow,ncol))\n",
    "    plt.imshow(xsq,  cmap='Greys_r')\n",
    "    plt.xticks([])\n",
    "    plt.yticks([])\n",
    "\n",
    "# Convert data to a matrix\n",
    "X = Xdigs\n",
    "y = ydig\n",
    "\n",
    "# Select random digits\n",
    "nplt = 4\n",
    "nsamp = X.shape[0]\n",
    "Iperm = np.random.permutation(nsamp)\n",
    "\n",
    "# Plot the images using the subplot command\n",
    "for i in range(nplt):\n",
    "    ind = Iperm[i]\n",
    "    plt.subplot(1,nplt,i+1)\n",
    "    plt_digit(X[ind,:])\n",
    "    title ='{0:d}'.format(y[ind].astype(int))\n",
    "    plt.title(title)"
   ]
  },
  {
   "cell_type": "code",
   "execution_count": 5,
   "metadata": {
    "collapsed": true
   },
   "outputs": [],
   "source": [
    "class ImgException(Exception):\n",
    "    def __init__(self, msg='No msg'):\n",
    "        self.msg = msg"
   ]
  },
  {
   "cell_type": "code",
   "execution_count": 6,
   "metadata": {
    "collapsed": true
   },
   "outputs": [],
   "source": [
    "import matplotlib.image as mpimg\n",
    "import skimage.io\n",
    "from skimage.filters import threshold_otsu, threshold_mean\n",
    "from skimage.segmentation import clear_border\n",
    "from skimage.measure import label, regionprops\n",
    "from skimage.morphology import closing, square\n",
    "from skimage.color import label2rgb\n",
    "from skimage.transform import resize\n",
    "import matplotlib.patches as mpatches\n",
    "from skimage import data\n",
    "import skimage\n",
    "import os.path"
   ]
  },
  {
   "cell_type": "code",
   "execution_count": 7,
   "metadata": {
    "collapsed": true
   },
   "outputs": [],
   "source": [
    "import tarfile\n",
    "\n",
    "English = tarfile.open('EnglishHnd.tar')\n",
    "English.extractall()\n",
    "English.close()"
   ]
  },
  {
   "cell_type": "code",
   "execution_count": 8,
   "metadata": {
    "collapsed": true
   },
   "outputs": [],
   "source": [
    "def load_img(char_ind, samp_ind):\n",
    "    \"\"\"\n",
    "    Returns the image from the dataset given a character and sample index.\n",
    "    \n",
    "        \n",
    "    If the file doesn't exist, it raises an Exception with the filename. \n",
    "    \"\"\"\n",
    "    \n",
    "    \n",
    "    # TODO:  Set the file name based on char_ind and samp_ind\n",
    "    dname = \"Sample0\" + str(char_ind)\n",
    "    if samp_ind < 10:\n",
    "        fname = \"img0\" + str(char_ind) + \"-00\" + str(samp_ind) + \".png\"\n",
    "    else:\n",
    "        fname = \"img0\" + str(char_ind) + \"-0\" + str(samp_ind) + \".png\"\n",
    "  \n",
    "    \n",
    "    # TODO:  Use the os.path.isfile command to check if the file exists.  \n",
    "    # If not raise an ImgException with the message \"[fname] not found\"\n",
    "    \n",
    "    if not os.path.isfile(\"English/Hnd/Img/\" + dname + \"/\" + fname):\n",
    "        raise ImgException(\"File \" + fname + \" not found\")\n",
    "\n",
    "    # TODO:  Use the skimage.io.imread() command to read the png file and return the image.\n",
    "    img = skimage.io.imread(\"English/Hnd/Img/\" + dname +\"/\" + fname)\n",
    "\n",
    "    return img"
   ]
  },
  {
   "cell_type": "code",
   "execution_count": 9,
   "metadata": {},
   "outputs": [
    {
     "name": "stdout",
     "output_type": "stream",
     "text": [
      "Char = 47 samp=6\n",
      "File img047-070.png not found\n"
     ]
    },
    {
     "data": {
      "image/png": "[encoded data removed]",
      "text/plain": [
       "<matplotlib.figure.Figure at 0x13ad81dd8>"
      ]
     },
     "metadata": {},
     "output_type": "display_data"
    }
   ],
   "source": [
    "char_ind = 47\n",
    "samp_inds = [6,70]\n",
    "for samp_ind in samp_inds:\n",
    "    try:\n",
    "        img = load_img(char_ind=char_ind, samp_ind=samp_ind)\n",
    "        print(\"Char = %d samp=%d\" % (char_ind, samp_ind))\n",
    "        plt.imshow(img)\n",
    "    except ImgException as e:\n",
    "        print(e.msg)"
   ]
  },
  {
   "cell_type": "code",
   "execution_count": 10,
   "metadata": {
    "collapsed": true
   },
   "outputs": [],
   "source": [
    "def mnist_resize(img): \n",
    "    \"\"\" \n",
    "    Extracts a character from the image, and places in a 28x28 image to match the MNIST format.\n",
    "    Returns:\n",
    "    img1:  MNIST formatted 28 x 28 size image with the character from img\n",
    "    box:   A bounding box indicating the locations where the character was found in img.    \n",
    "    \"\"\"\n",
    "    # Image sizes (fixed for now).  To match the MNIST data, the image \n",
    "    # will be first resized to 20 x 20.  Then, the image will be placed in center of 28 x 28 box\n",
    "    # offet by 4 on each side.\n",
    "    nx_img = 20   \n",
    "    ny_img = 20\n",
    "    nx_box = 28   \n",
    "    ny_box = 28\n",
    "    offx = 4\n",
    "    offy = 4\n",
    "\n",
    "    # TODO:  Convert the image to gray scale using the skimage.color.rgb2gray method. \n",
    "    bw = skimage.color.rgb2gray(img)\n",
    "\n",
    "    # Threshold the image using OTSU threshold\n",
    "    thresh = threshold_otsu(bw)\n",
    "    bw = closing(bw < thresh, square(3)).astype(int)\n",
    "\n",
    "    # Get the regions in the image.\n",
    "    # This creates a list of regions in the image where the digit possibly is.\n",
    "    regions = regionprops(bw)\n",
    "\n",
    "    # TODO:  Find region with the largest area.  You can get the region area from region.area.\n",
    "    for region in regions:\n",
    "        region_max = region.area \n",
    "\n",
    "        # Raise an ImgException if no region with area >= 100 was found\n",
    "        if (region_max < 100):\n",
    "            raise ImgException(\"No image found\")    \n",
    "\n",
    "        # Get the bounding box of the character from region_max.bbox\n",
    "        minr, minc, maxr, maxc = region.bbox\n",
    "        box = [minr,minc,maxr,maxc]\n",
    "\n",
    "        # TODO:  Crop the image in bw to the bounding box\n",
    "        bw_crop = bw[minr:maxr,minc:maxc]\n",
    "\n",
    "        # TODO:  Resize the cropped image to a 20x20 using the resize command.\n",
    "        # You will need to use the mode = 'constant' option\n",
    "        bw_resize = resize(bw_crop, (nx_img, ny_img),mode='constant')\n",
    "        #bw_resize = resizeimage.resize_cover(bw_crop, [nx_img, ny_img])\n",
    "\n",
    "        # TODO:  Threshold back to a 0-1 image by comparing the pixels to their mean value\n",
    "        thresh = threshold_mean(bw_resize)\n",
    "\n",
    "        # TODO:  Place extracted 20 x 20 image in larger image 28 x 28\n",
    "        img1 = np.zeros((nx_box,ny_box))\n",
    "        img1[4:-4,4:-4] = bw_resize\n",
    "        #img1 = ImageOps.expand(bw_resize, border=4)\n",
    "        #img1 = resize(bw_resize, (nx_box, ny_box),mode='constant')\n",
    "\n",
    "    return img1, box"
   ]
  },
  {
   "cell_type": "code",
   "execution_count": 11,
   "metadata": {
    "scrolled": true
   },
   "outputs": [
    {
     "name": "stderr",
     "output_type": "stream",
     "text": [
      "/Users/Forita/anaconda3/lib/python3.6/site-packages/skimage/util/dtype.py:122: UserWarning: Possible precision loss when converting from int64 to float64\n",
      "  .format(dtypeobj_in, dtypeobj_out))\n"
     ]
    },
    {
     "data": {
      "image/png": "[encoded data removed]",
      "text/plain": [
       "<matplotlib.figure.Figure at 0x13a5eaba8>"
      ]
     },
     "metadata": {},
     "output_type": "display_data"
    }
   ],
   "source": [
    "# Load an image\n",
    "img = load_img(13,9)\n",
    "\n",
    "try:\n",
    "    # Resize the image\n",
    "    img1, box = mnist_resize(img)\n",
    "    \n",
    "    # TODO:  Plot the original image, img, along with a red box around the captured character.\n",
    "    # Use the mpatches.Rectangle and ax.add_patch methods to construct the rectangle.\n",
    "    #fig,ax  = plt.subplots(figsize=(10,6))\n",
    "    f, (ax1, ax2) = plt.subplots(1, 2, figsize=(10,6))\n",
    "    ax1.imshow(img)\n",
    "    rect = mpatches.Rectangle((box[1], box[0]), box[3] - box[1], box[2] - box[0],\n",
    "                                  fill=False, edgecolor='red', linewidth=2)\n",
    "    ax1.add_patch(rect)\n",
    "    ax1.set_axis_off()\n",
    "    ax2.imshow(img1)\n",
    "    \n",
    "except ImgException as e:\n",
    "    print(e.msg)"
   ]
  },
  {
   "cell_type": "code",
   "execution_count": 12,
   "metadata": {},
   "outputs": [
    {
     "name": "stderr",
     "output_type": "stream",
     "text": [
      "/Users/Forita/anaconda3/lib/python3.6/site-packages/skimage/util/dtype.py:122: UserWarning: Possible precision loss when converting from int64 to float64\n",
      "  .format(dtypeobj_in, dtypeobj_out))\n"
     ]
    },
    {
     "name": "stdout",
     "output_type": "stream",
     "text": [
      "images captured = 50\n",
      "images captured = 100\n",
      "images captured = 150\n",
      "images captured = 200\n",
      "images captured = 250\n",
      "images captured = 300\n",
      "images captured = 350\n",
      "images captured = 400\n",
      "images captured = 450\n",
      "images captured = 500\n",
      "images captured = 550\n",
      "images captured = 600\n",
      "images captured = 650\n",
      "images captured = 700\n",
      "images captured = 750\n",
      "images captured = 800\n",
      "images captured = 850\n",
      "images captured = 900\n",
      "images captured = 950\n",
      "images captured = 1000\n"
     ]
    }
   ],
   "source": [
    "import random\n",
    "import string\n",
    "\n",
    "# Dimensions\n",
    "nlet = 1000\n",
    "nrow = 28\n",
    "ncol = 28\n",
    "npix = nrow*ncol\n",
    "Xlet = np.zeros((nlet, npix))\n",
    "\n",
    "i = 0\n",
    "while i < nlet:\n",
    "    # TODO:  Generate a random character and sample \n",
    "    char_ind = random.randint(37,62)\n",
    "    while True:\n",
    "        char_ind = random.randint(37,62)\n",
    "        if char_ind != 45 and char_ind != 51:\n",
    "            break\n",
    "    samp_ind = random.randrange(0,49)\n",
    "        \n",
    "    try:\n",
    "        # TODO:  Load the image with load_img function\n",
    "        img = load_img(char_ind,samp_ind)\n",
    "        \n",
    "        # TODO:  Reize the image with mnist_resize function\n",
    "        img1, box = mnist_resize(img)\n",
    "        \n",
    "        # TODO:  Store the image in a row of Xlet[i,:] and increment i\n",
    "        Xlet[i,:] = img1.reshape((1,784))\n",
    "        i += 1\n",
    "        \n",
    "        # Print progress\n",
    "        if (i % 50 == 0):\n",
    "            print ('images captured = {0:d}'.format(i))\n",
    "    except ImgException:\n",
    "        # Skip if image loading or resizing failed\n",
    "        pass"
   ]
  },
  {
   "cell_type": "code",
   "execution_count": 13,
   "metadata": {
    "collapsed": true
   },
   "outputs": [],
   "source": [
    "import pickle\n",
    "\n",
    "with open( \"Xlet.p\", \"wb\" ) as fp:\n",
    "    pickle.dump(Xlet, fp)"
   ]
  },
  {
   "cell_type": "code",
   "execution_count": 14,
   "metadata": {
    "collapsed": true
   },
   "outputs": [],
   "source": [
    "with open( \"Xlet.p\", \"rb\" ) as fp:\n",
    "    Xlet = pickle.load(fp)"
   ]
  },
  {
   "cell_type": "code",
   "execution_count": 15,
   "metadata": {
    "collapsed": true
   },
   "outputs": [],
   "source": [
    "# Create Extended Training Data\n",
    "Xlets = 2*Xlet-1\n",
    "ndig=5000\n",
    "nlet=1000\n",
    "nrow = 28\n",
    "ncol = 28\n",
    "npix = nrow*ncol\n",
    "Xsamp = np.zeros((ndig, npix))\n",
    "ylabel = np.zeros(ndig)\n",
    "ten = np.ones(nlet)*10\n",
    "\n",
    "nsamp = Xdigs.shape[0]\n",
    "Iperm = np.random.permutation(nsamp)\n",
    "for i in range(ndig):\n",
    "    ind = Iperm[i]\n",
    "    Xsamp[i] = Xdigs[ind,:]\n",
    "    ylabel[i] = ydig[ind]\n",
    "\n",
    "X = np.concatenate((Xsamp,Xlets),axis=0)\n",
    "y = np.concatenate((ylabel,ten),axis=0)\n",
    "\n",
    "nsamp = X.shape[0]\n",
    "Iperm = np.random.permutation(nsamp)\n",
    "for i in range(ndig+nlet):\n",
    "    ind = Iperm[i]\n",
    "    X[i] = X[ind,:]\n",
    "    y[i] = y[ind]"
   ]
  },
  {
   "cell_type": "code",
   "execution_count": 16,
   "metadata": {
    "collapsed": true
   },
   "outputs": [],
   "source": [
    "from sklearn import svm\n",
    "\n",
    "# Create a classifier: a support vector classifier\n",
    "svc = svm.SVC(probability=False,  kernel=\"rbf\", C=2.8, gamma=.0073,verbose=10)"
   ]
  },
  {
   "cell_type": "code",
   "execution_count": 17,
   "metadata": {
    "collapsed": true
   },
   "outputs": [],
   "source": [
    "# TODO\n",
    "ntr = 5000\n",
    "nts = 1000\n",
    "Xtr = X[:ntr,:]\n",
    "ytr = y[:ntr]\n",
    "Xts = X[ntr:,:]\n",
    "yts = y[ntr:]"
   ]
  },
  {
   "cell_type": "code",
   "execution_count": 18,
   "metadata": {},
   "outputs": [
    {
     "name": "stdout",
     "output_type": "stream",
     "text": [
      "[LibSVM]"
     ]
    },
    {
     "data": {
      "text/plain": [
       "SVC(C=2.8, cache_size=200, class_weight=None, coef0=0.0,\n",
       "  decision_function_shape=None, degree=3, gamma=0.0073, kernel='rbf',\n",
       "  max_iter=-1, probability=False, random_state=None, shrinking=True,\n",
       "  tol=0.001, verbose=10)"
      ]
     },
     "execution_count": 18,
     "metadata": {},
     "output_type": "execute_result"
    }
   ],
   "source": [
    "svc.fit(Xtr,ytr)"
   ]
  },
  {
   "cell_type": "code",
   "execution_count": 19,
   "metadata": {},
   "outputs": [
    {
     "name": "stdout",
     "output_type": "stream",
     "text": [
      "Accuaracy = 0.996000\n"
     ]
    }
   ],
   "source": [
    "yhat_ts = svc.predict(Xts)\n",
    "acc = np.mean(yhat_ts == yts)\n",
    "print('Accuaracy = {0:f}'.format(acc))"
   ]
  },
  {
   "cell_type": "code",
   "execution_count": 20,
   "metadata": {},
   "outputs": [
    {
     "name": "stdout",
     "output_type": "stream",
     "text": [
      "[[ 1.      0.      0.      0.      0.      0.      0.      0.      0.      0.\n",
      "   0.    ]\n",
      " [ 0.      1.      0.      0.      0.      0.      0.      0.      0.      0.\n",
      "   0.    ]\n",
      " [ 0.      0.      1.      0.      0.      0.      0.      0.      0.      0.\n",
      "   0.    ]\n",
      " [ 0.      0.      0.      1.      0.      0.      0.      0.      0.      0.\n",
      "   0.    ]\n",
      " [ 0.      0.      0.      0.      1.      0.      0.      0.      0.      0.\n",
      "   0.    ]\n",
      " [ 0.      0.      0.      0.      0.      1.      0.      0.      0.      0.\n",
      "   0.    ]\n",
      " [ 0.      0.      0.      0.      0.      0.      1.      0.      0.      0.\n",
      "   0.    ]\n",
      " [ 0.      0.      0.      0.      0.      0.      0.      0.9756  0.\n",
      "   0.0282  0.    ]\n",
      " [ 0.      0.      0.      0.      0.      0.      0.      0.      1.      0.\n",
      "   0.    ]\n",
      " [ 0.      0.      0.      0.      0.      0.0164  0.      0.0122  0.\n",
      "   0.9718  0.    ]\n",
      " [ 0.      0.      0.      0.      0.      0.      0.      0.      0.      0.\n",
      "   1.    ]]\n"
     ]
    },
    {
     "data": {
      "text/plain": [
       "<matplotlib.text.Text at 0x13b106860>"
      ]
     },
     "execution_count": 20,
     "metadata": {},
     "output_type": "execute_result"
    },
    {
     "data": {
      "image/png": "[encoded data removed]",
      "text/plain": [
       "<matplotlib.figure.Figure at 0x13b086e48>"
      ]
     },
     "metadata": {},
     "output_type": "display_data"
    }
   ],
   "source": [
    "from sklearn.metrics import confusion_matrix\n",
    "\n",
    "# confusion matrix\n",
    "C0 = confusion_matrix(yts, yhat_ts)\n",
    "C = C0 / C0.astype(np.float).sum(axis=1)\n",
    "print(np.array_str(C, precision=4, suppress_small=True))\n",
    "plt.imshow(C, interpolation='None')\n",
    "plt.title('Normalized confusion matrix')"
   ]
  },
  {
   "cell_type": "code",
   "execution_count": 21,
   "metadata": {},
   "outputs": [
    {
     "name": "stdout",
     "output_type": "stream",
     "text": [
      "No such error found\n"
     ]
    }
   ],
   "source": [
    "Ierr = np.where((yhat_ts == 10) & (yts != 10))[0]\n",
    "if len(Ierr) == 0:\n",
    "    print(\"No such error found\") \n",
    "else:\n",
    "    if len(Ierr) > 4:\n",
    "        nplt = 4\n",
    "    else:\n",
    "        nplt = len(Ierr)\n",
    "    plt.figure(figsize=(10, 4))\n",
    "    for i in range(nplt):        \n",
    "        plt.subplot(1,nplt,i+1)        \n",
    "        ind = Ierr[i]    \n",
    "        plt_digit(Xts[ind,:])        \n",
    "        title = 'true={0:d} est={1:d}'.format(yts[ind].astype(int), yhat_ts[ind].astype(int))\n",
    "        plt.title(title)"
   ]
  },
  {
   "cell_type": "code",
   "execution_count": 22,
   "metadata": {},
   "outputs": [
    {
     "name": "stdout",
     "output_type": "stream",
     "text": [
      "No such error found\n"
     ]
    }
   ],
   "source": [
    "Ierr = np.where((yhat_ts != 10) & (yts == 10))[0]\n",
    "if len(Ierr) == 0:\n",
    "    print(\"No such error found\") \n",
    "else:\n",
    "    if len(Ierr) > 4:\n",
    "        nplt = 4\n",
    "    else:\n",
    "        nplt = len(Ierr)\n",
    "    plt.figure(figsize=(10, 4))\n",
    "    for i in range(nplt):        \n",
    "        plt.subplot(1,nplt,i+1)        \n",
    "        ind = Ierr[i]    \n",
    "        plt_digit(Xts[ind,:])        \n",
    "        title = 'true={0:d} est={1:d}'.format(yts[ind].astype(int), yhat_ts[ind].astype(int))\n",
    "        plt.title(title)"
   ]
  },
  {
   "cell_type": "code",
   "execution_count": 23,
   "metadata": {},
   "outputs": [
    {
     "data": {
      "image/png": "[encoded data removed]",
      "text/plain": [
       "<matplotlib.figure.Figure at 0x13b164860>"
      ]
     },
     "metadata": {},
     "output_type": "display_data"
    }
   ],
   "source": [
    "Ierr = np.where((yhat_ts != yts) & (yts < 10) & (yhat_ts < 10))[0]\n",
    "if len(Ierr) == 0:\n",
    "    print(\"No such error found\") \n",
    "else:\n",
    "    if len(Ierr) > 4:\n",
    "        nplt = 4\n",
    "    else:\n",
    "        nplt = len(Ierr)\n",
    "    plt.figure(figsize=(10, 4))\n",
    "    for i in range(nplt):        \n",
    "        plt.subplot(1,nplt,i+1)        \n",
    "        ind = Ierr[i]    \n",
    "        plt_digit(Xts[ind,:])        \n",
    "        title = 'true={0:d} est={1:d}'.format(yts[ind].astype(int), yhat_ts[ind].astype(int))\n",
    "        plt.title(title)"
   ]
  },
  {
   "cell_type": "code",
   "execution_count": null,
   "metadata": {
    "collapsed": true
   },
   "outputs": [],
   "source": []
  }
 ],
 "metadata": {
  "kernelspec": {
   "display_name": "Python 3",
   "language": "python",
   "name": "python3"
  },
  "language_info": {
   "codemirror_mode": {
    "name": "ipython",
    "version": 3
   },
   "file_extension": ".py",
   "mimetype": "text/x-python",
   "name": "python",
   "nbconvert_exporter": "python",
   "pygments_lexer": "ipython3",
   "version": "3.6.1"
  }
 },
 "nbformat": 4,
 "nbformat_minor": 2
}
